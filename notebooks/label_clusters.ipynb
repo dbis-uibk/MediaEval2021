{
 "cells": [
  {
   "cell_type": "markdown",
   "id": "ec8fa212-867b-4e6b-9886-9f9d72671de7",
   "metadata": {},
   "source": [
    "# Label Clusters\n",
    "\n",
    "Based on the centeroid of each label, we will try to find label clusters."
   ]
  },
  {
   "cell_type": "code",
   "execution_count": null,
   "id": "90ccaff1-8e06-4822-8323-ee5df865ca4b",
   "metadata": {},
   "outputs": [],
   "source": [
    "from mediaeval2021.dataloaders import acousticbrainz\n",
    "import pandas as pd\n",
    "\n",
    "dataset_path = '../data/mediaeval2019/'\n",
    "\n",
    "dataloader = acousticbrainz.AcousticBrainzLoader(\n",
    "    training_path=dataset_path + 'accousticbrainz-train.pickle',\n",
    "    test_path=dataset_path + 'accousticbrainz-test.pickle',\n",
    "    validation_path=dataset_path + 'accousticbrainz-validation.pickle',\n",
    ")\n",
    "\n",
    "train_data = dataloader.load_train()\n",
    "\n",
    "features = dataloader.columns[2:]\n",
    "train_features = pd.DataFrame(train_data[0], columns=features)\n",
    "\n",
    "labels = list(map(lambda c: c[13:], dataloader.mlb.classes_))\n",
    "train_labels = pd.DataFrame(train_data[1], columns=labels)\n",
    "\n",
    "\n",
    "train_data = train_features.merge(train_labels, left_index=True, right_index=True)\n",
    "\n",
    "centeroids = {}\n",
    "for label in labels:\n",
    "    centeroids[label] = train_data.loc[train_data[label] == 1][features].mean()\n",
    "\n",
    "representative_samples = pd.DataFrame(centeroids).T"
   ]
  },
  {
   "cell_type": "code",
   "execution_count": null,
   "id": "5b8d27c7-96e6-4869-8081-b8671601d031",
   "metadata": {},
   "outputs": [],
   "source": [
    "from sklearn import cluster\n",
    "import matplotlib.pyplot as plt\n",
    "\n",
    "Nc = range(1, 20)\n",
    "kmeans = [cluster.KMeans(n_clusters=i) for i in Nc]\n",
    "score = [kmeans[i].fit(representative_samples).score(representative_samples) for i in range(len(kmeans))]\n",
    "plt.plot(Nc,score)\n",
    "plt.xticks(Nc)\n",
    "plt.xlabel('Number of Clusters')\n",
    "plt.ylabel('Score')\n",
    "plt.title('Elbow Curve')\n",
    "plt.grid(True)\n",
    "plt.show()"
   ]
  },
  {
   "cell_type": "code",
   "execution_count": null,
   "id": "35fd8ab1-9ac6-4445-a5b5-8bf76adfdb6b",
   "metadata": {},
   "outputs": [],
   "source": [
    "clustering = pd.DataFrame(representative_samples.index, columns=['label'])\n",
    "\n",
    "\n",
    "n_clusters = 8\n",
    "\n",
    "clustering['k-means_cluster'] = cluster.KMeans(n_clusters=n_clusters, random_state=0).fit(representative_samples).labels_\n",
    "clustering['spectral_cluster'] = cluster.SpectralClustering(n_clusters=n_clusters).fit(representative_samples).labels_\n",
    "clustering['agglomerative_cluster'] = cluster.AgglomerativeClustering(n_clusters=n_clusters).fit(representative_samples).labels_\n",
    "\n",
    "display(clustering)"
   ]
  },
  {
   "cell_type": "code",
   "execution_count": null,
   "id": "55ba55d1-8e88-42f4-a1bc-dbcb6a664a26",
   "metadata": {},
   "outputs": [],
   "source": [
    "from sklearn.decomposition import PCA\n",
    "\n",
    "pc = PCA(n_components=2).fit_transform(representative_samples)\n",
    "clustering['pca_0'] = pc[... ,0]\n",
    "clustering['pca_1'] = pc[..., 1]\n",
    "\n",
    "clustering.plot.scatter(x='pca_0', y='pca_1', c='k-means_cluster', colormap='rainbow')\n",
    "plt.show()\n",
    "clustering.plot.scatter(x='pca_0', y='pca_1', c='agglomerative_cluster', colormap='rainbow')\n",
    "plt.show()"
   ]
  },
  {
   "cell_type": "code",
   "execution_count": null,
   "id": "45ed9988",
   "metadata": {},
   "outputs": [],
   "source": [
    "### DIKmeans\n",
    "\n",
    "import numpy as np\n",
    "import math \n",
    "import random\n",
    "\n",
    "def find_centroid(pt1, pt2):\n",
    "    return (pt1 + pt2) / 2\n",
    "\n",
    "def get_max_distance_label(pt, df_samples, labels):\n",
    "    max_dis = -1\n",
    "    max_dis_label = ''\n",
    "    for idx, sample in df_samples.iterrows():\n",
    "        if np.linalg.norm(pt - sample.to_numpy()) > max_dis and idx in labels:\n",
    "            max_dis = np.linalg.norm(pt - sample.to_numpy())\n",
    "            max_dis_label = idx\n",
    "\n",
    "    return max_dis_label\n",
    "\n",
    "#amount_categories = 56\n",
    "n_models = 10\n",
    "#cats_per_model = math.ceil(amount_categories / n_models)\n",
    "\n",
    "labels = representative_samples.index.to_list()\n",
    "label_assignment = {}\n",
    "# init phase\n",
    "for i in range(n_models):\n",
    "    label = random.choice(labels)\n",
    "    max_distance_label = get_max_distance_label(representative_samples.loc[label], representative_samples, labels)\n",
    "    label_assignment[i] = [label, max_distance_label]\n",
    "    labels.remove(label)\n",
    "    labels.remove(max_distance_label)\n",
    "\n",
    "# iteration  \n",
    "while len(labels) > 0:\n",
    "    for i in range(n_models):\n",
    "        label1 = label_assignment[i][-1]\n",
    "        label2 = label_assignment[i][-2]\n",
    "        centroid = find_centroid(representative_samples.loc[label1], representative_samples.loc[label2])\n",
    "        max_distance_label = get_max_distance_label(centroid, representative_samples, labels)\n",
    "        label_assignment[i].append(max_distance_label)\n",
    "        labels.remove(max_distance_label)\n",
    "\n",
    "        if len(labels) == 0:\n",
    "            break\n",
    "\n",
    "print(label_assignment)\n"
   ]
  }
 ],
 "metadata": {
  "interpreter": {
   "hash": "187aba9a7ead1b663c90e07d645bb8211a8a75b400649bff906e9f92c44b0bd7"
  },
  "kernelspec": {
   "display_name": "Python 3 (ipykernel)",
   "language": "python",
   "name": "python3"
  },
  "language_info": {
   "codemirror_mode": {
    "name": "ipython",
    "version": 3
   },
   "file_extension": ".py",
   "mimetype": "text/x-python",
   "name": "python",
   "nbconvert_exporter": "python",
   "pygments_lexer": "ipython3",
   "version": "3.8.5"
  }
 },
 "nbformat": 4,
 "nbformat_minor": 5
}
