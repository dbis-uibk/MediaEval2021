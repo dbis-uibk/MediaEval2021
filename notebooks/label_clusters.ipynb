{
 "cells": [
  {
   "cell_type": "markdown",
   "id": "ec8fa212-867b-4e6b-9886-9f9d72671de7",
   "metadata": {},
   "source": [
    "# Label Clusters\n",
    "\n",
    "Based on the centeroid of each label, we will try to find label clusters."
   ]
  },
  {
   "cell_type": "code",
   "execution_count": null,
   "id": "90ccaff1-8e06-4822-8323-ee5df865ca4b",
   "metadata": {},
   "outputs": [],
   "source": [
    "from mediaeval2021.dataloaders import acousticbrainz\n",
    "import pandas as pd\n",
    "\n",
    "dataset_path = '../data/mediaeval2019/'\n",
    "\n",
    "dataloader = acousticbrainz.AcousticBrainzLoader(\n",
    "    training_path=dataset_path + 'accousticbrainz-train.pickle',\n",
    "    test_path=dataset_path + 'accousticbrainz-test.pickle',\n",
    "    validation_path=dataset_path + 'accousticbrainz-validation.pickle',\n",
    ")\n",
    "\n",
    "train_data = dataloader.load_train()\n",
    "\n",
    "features = dataloader.columns[2:]\n",
    "train_features = pd.DataFrame(train_data[0], columns=features)\n",
    "\n",
    "labels = list(map(lambda c: c[13:], dataloader.mlb.classes_))\n",
    "train_labels = pd.DataFrame(train_data[1], columns=labels)\n",
    "\n",
    "\n",
    "train_data = train_features.merge(train_labels, left_index=True, right_index=True)\n",
    "\n",
    "centeroids = {}\n",
    "for label in labels:\n",
    "    centeroids[label] = train_data.loc[train_data[label] == 1][features].mean()\n",
    "\n",
    "representative_samples = pd.DataFrame(centeroids).T"
   ]
  },
  {
   "cell_type": "code",
   "execution_count": null,
   "id": "5b8d27c7-96e6-4869-8081-b8671601d031",
   "metadata": {},
   "outputs": [],
   "source": [
    "from sklearn import cluster\n",
    "import matplotlib.pyplot as plt\n",
    "\n",
    "Nc = range(1, 20)\n",
    "kmeans = [cluster.KMeans(n_clusters=i) for i in Nc]\n",
    "score = [kmeans[i].fit(representative_samples).score(representative_samples) for i in range(len(kmeans))]\n",
    "plt.plot(Nc,score)\n",
    "plt.xticks(Nc)\n",
    "plt.xlabel('Number of Clusters')\n",
    "plt.ylabel('Score')\n",
    "plt.title('Elbow Curve')\n",
    "plt.grid(True)\n",
    "plt.show()"
   ]
  },
  {
   "cell_type": "code",
   "execution_count": null,
   "id": "35fd8ab1-9ac6-4445-a5b5-8bf76adfdb6b",
   "metadata": {},
   "outputs": [],
   "source": [
    "clustering = pd.DataFrame(representative_samples.index, columns=['label'])\n",
    "\n",
    "\n",
    "n_clusters = 4\n",
    "\n",
    "clustering['k-means_cluster'] = cluster.KMeans(n_clusters=n_clusters, random_state=0).fit(representative_samples).labels_\n",
    "clustering['spectral_cluster'] = cluster.SpectralClustering(n_clusters=n_clusters).fit(representative_samples).labels_\n",
    "clustering['agglomerative_cluster'] = cluster.AgglomerativeClustering(n_clusters=n_clusters).fit(representative_samples).labels_\n",
    "\n",
    "display(clustering)"
   ]
  },
  {
   "cell_type": "code",
   "execution_count": null,
   "id": "55ba55d1-8e88-42f4-a1bc-dbcb6a664a26",
   "metadata": {},
   "outputs": [],
   "source": [
    "from sklearn.decomposition import PCA\n",
    "\n",
    "pc = PCA(n_components=2).fit_transform(representative_samples)\n",
    "clustering['pca_0'] = pc[... ,0]\n",
    "clustering['pca_1'] = pc[..., 1]\n",
    "\n",
    "clustering.plot.scatter(x='pca_0', y='pca_1', c='k-means_cluster', colormap='rainbow')\n",
    "plt.show()\n",
    "clustering.plot.scatter(x='pca_0', y='pca_1', c='k-means_cluster', colormap='rainbow')\n",
    "plt.show()"
   ]
  }
 ],
 "metadata": {
  "kernelspec": {
   "display_name": "Python 3 (ipykernel)",
   "language": "python",
   "name": "python3"
  },
  "language_info": {
   "codemirror_mode": {
    "name": "ipython",
    "version": 3
   },
   "file_extension": ".py",
   "mimetype": "text/x-python",
   "name": "python",
   "nbconvert_exporter": "python",
   "pygments_lexer": "ipython3",
   "version": "3.8.5"
  }
 },
 "nbformat": 4,
 "nbformat_minor": 5
}
