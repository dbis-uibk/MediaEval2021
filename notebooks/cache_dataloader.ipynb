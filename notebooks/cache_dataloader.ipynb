{
 "cells": [
  {
   "cell_type": "markdown",
   "id": "d1fd107c-4d88-41bc-b6ef-c9669f45b1a2",
   "metadata": {},
   "source": [
    "# Pickle Data"
   ]
  },
  {
   "cell_type": "code",
   "execution_count": null,
   "id": "660fb08b-9e98-47e1-9ce9-19563d89d2e3",
   "metadata": {},
   "outputs": [],
   "source": [
    "from mediaeval2021.dataloaders.melspectrograms import MelSpectrogramsLoader\n",
    "\n",
    "window_size = 500\n",
    "                                           \n",
    "dataloader = MelSpectrogramsLoader(\n",
    "    data_path=\"../data/mediaeval2019/melspec_data\",\n",
    "    training_path=\"../data/mediaeval2019/autotagging_moodtheme-train.tsv\",\n",
    "    test_path=\"../data/mediaeval2019/autotagging_moodtheme-test.tsv\",\n",
    "    validate_path=\"../data/mediaeval2019/autotagging_moodtheme-validation.tsv\",\n",
    "    window_size=window_size,\n",
    "    repeating=True,\n",
    ")\n",
    "\n",
    "data = {}\n",
    "data['train'] = dataloader.load_train()\n",
    "data['validate'] = dataloader.load_validate()\n",
    "data['test'] = dataloader.load_test()\n",
    "data['configuration'] = dataloader.configuration"
   ]
  },
  {
   "cell_type": "code",
   "execution_count": null,
   "id": "8ebe5822-3b94-4818-a6bc-81906b4d12db",
   "metadata": {},
   "outputs": [],
   "source": [
    "import pickle\n",
    "\n",
    "with open(f'../data/mediaeval2020/melspect_{window_size}r.pickle', 'wb') as f:\n",
    "    pickle.dump(data, f)"
   ]
  },
  {
   "cell_type": "code",
   "execution_count": null,
   "id": "be1aeb9e-9f76-416c-8654-801d146d3c95",
   "metadata": {},
   "outputs": [],
   "source": [
    "from mediaeval2021.dataloaders.melspectrograms import MelSpectPickleLoader\n",
    "\n",
    "dataloader = MelSpectPickleLoader('../data/mediaeval2020/melspect_5000r.pickle')"
   ]
  },
  {
   "cell_type": "code",
   "execution_count": null,
   "id": "0d6182fe-4c1d-4377-8b09-c146ffb657ca",
   "metadata": {},
   "outputs": [],
   "source": [
    "data = {}\n",
    "data['train'] = dataloader.load_train()\n",
    "data['validate'] = dataloader.load_validate()\n",
    "data['test'] = dataloader.load_test()\n",
    "\n",
    "for k, v in data.items():\n",
    "    try:\n",
    "        print(k, v[0].shape, v[1].shape)\n",
    "    except KeyError:\n",
    "        pass\n"
   ]
  },
  {
   "cell_type": "code",
   "execution_count": null,
   "id": "4a93e558-c72f-4ea9-8981-cd317b8715ff",
   "metadata": {},
   "outputs": [],
   "source": [
    "data['train'][0][0].shape"
   ]
  },
  {
   "cell_type": "code",
   "execution_count": null,
   "id": "2282d7ed-c391-4019-86c9-ccdea9fcdad4",
   "metadata": {},
   "outputs": [],
   "source": []
  }
 ],
 "metadata": {
  "kernelspec": {
   "display_name": "Python 3 (ipykernel)",
   "language": "python",
   "name": "python3"
  },
  "language_info": {
   "codemirror_mode": {
    "name": "ipython",
    "version": 3
   },
   "file_extension": ".py",
   "mimetype": "text/x-python",
   "name": "python",
   "nbconvert_exporter": "python",
   "pygments_lexer": "ipython3",
   "version": "3.8.11"
  }
 },
 "nbformat": 4,
 "nbformat_minor": 5
}
