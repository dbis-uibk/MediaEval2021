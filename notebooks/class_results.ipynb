{
 "cells": [
  {
   "cell_type": "code",
   "execution_count": null,
   "metadata": {},
   "outputs": [],
   "source": [
    "import copy\n",
    "import os.path\n",
    "\n",
    "import matplotlib.pyplot as plt\n",
    "import numpy as np\n",
    "import pandas as pd\n",
    "\n",
    "from dbispipeline.analytics import get_results_as_dataframe\n",
    "from mediaeval2021.analytics import extract_best_epoch\n",
    "from mediaeval2021.analytics import extract_best_outcome\n",
    "from mediaeval2021.analytics import extract_final_outcome\n",
    "from mediaeval2021.analytics import extract_metrics\n",
    "from mediaeval2021.analytics import plot_per_label\n",
    "from mediaeval2021.analytics import print_per_label\n",
    "\n",
    "\n",
    "results = get_results_as_dataframe(project_name='mediaeval2021', table_name='results')\n",
    "results = results[results['date'] > '2021-10-13 12:00:00']\n",
    "display(results['outcome'])"
   ]
  },
  {
   "cell_type": "code",
   "execution_count": null,
   "metadata": {},
   "outputs": [],
   "source": [
    "# metric = 'f1_macro'\n",
    "\n",
    "# results['final_outcome'] = results['outcome'].apply(extract_final_outcome)\n",
    "# results['best_outcome'] = results['outcome'].apply(lambda v: extract_best_outcome(v, metric=metric))\n",
    "# results['best_epoch'] = results['outcome'].apply(lambda v: extract_best_epoch(v, metric=metric))\n",
    "\n",
    "def display_outcome(col):\n",
    "    outcome = []\n",
    "    for _, row in results.iterrows():\n",
    "        out = copy.deepcopy(row[col])\n",
    "        del out['confusion_matrix']\n",
    "        del out['average_precision_all']\n",
    "        del out['roc_auc_all']\n",
    "        out['id'] = row['id']\n",
    "        outcome.append(out)\n",
    "\n",
    "    outcome = pd.DataFrame(outcome).merge(results[['id', 'sourcefile']], on=['id'])\n",
    "    outcome['name'] = outcome['id'].apply(str) + ' ' + outcome['sourcefile']\n",
    "    outcome[[\n",
    "        'name',\n",
    "#         'roc_auc',\n",
    "        'f1_micro',\n",
    "        'f1_macro',\n",
    "        'average_precision',\n",
    "        'precision_micro',\n",
    "        'precision_macro',\n",
    "    ]].plot.bar(x='name', title=col, figsize=(24,6))\n",
    "    plt.show()\n",
    "\n",
    "results = results.sort_values(by=['sourcefile'])\n",
    "# display(results[['id', 'sourcefile', 'best_epoch']])\n",
    "\n",
    "display_outcome('outcome')\n",
    "best_outcome = pd.json_normalize(results['outcome'])\n",
    "best_outcome['name'] = pd.DataFrame(results['id'].apply(str) + ' ' + results['sourcefile']).reset_index()[0]\n",
    "\n",
    "paper_results = best_outcome[['name', 'roc_auc', 'average_precision', 'f1_micro', 'f1_macro']].round(3)\n",
    "paper_results['name'] = paper_results['name'].apply(lambda v: v[4:].replace('plans/fixed_', '').replace('sampled_', '').replace('.py', '').replace('ensemble_c', 'ec'))\n",
    "print(paper_results.to_latex(index=False))"
   ]
  },
  {
   "cell_type": "code",
   "execution_count": null,
   "metadata": {},
   "outputs": [],
   "source": [
    "metric = 'pr-auc'\n",
    "\n",
    "data593 = data = extract_metrics(results[results['id'] == 593].iloc[0]).sort_values(by=[metric])\n",
    "print_per_label(data)\n",
    "plt.show()\n",
    "\n",
    "data594 = data = extract_metrics(results[results['id'] == 594].iloc[0]).sort_values(by=[metric])\n",
    "print_per_label(data)\n",
    "plt.show()\n",
    "\n",
    "data602 = data = extract_metrics(results[results['id'] == 605].iloc[0]).sort_values(by=[metric])\n",
    "print_per_label(data)\n",
    "plt.show()\n",
    "\n",
    "display(data.mean())\n",
    "\n",
    "la = data.sort_values(by=[metric]).index[:28], data.sort_values(by=[metric]).index[28:]\n",
    "print(la)"
   ]
  },
  {
   "cell_type": "code",
   "execution_count": null,
   "metadata": {},
   "outputs": [],
   "source": [
    "data602['roc-auc593'] = data593['roc-auc']\n",
    "data602['roc-auc594'] = data594['roc-auc']\n",
    "\n",
    "print_per_label(data602[['roc-auc', 'roc-auc594', 'roc-auc593']].sort_values(by=['roc-auc594']))"
   ]
  },
  {
   "cell_type": "code",
   "execution_count": null,
   "metadata": {},
   "outputs": [],
   "source": [
    "from mediaeval2021.analytics import plot_confusion_matrix\n",
    "\n",
    "plot_confusion_matrix(results[results['id'] == 605].iloc[0], multilabel='heavy')"
   ]
  }
 ],
 "metadata": {
  "interpreter": {
   "hash": "a103fdb9a504ea84f3b530ca392e8a0d4ec770e8f03c585eba1d6fab74d8f18d"
  },
  "kernelspec": {
   "display_name": "Python 3 (ipykernel)",
   "language": "python",
   "name": "python3"
  },
  "language_info": {
   "codemirror_mode": {
    "name": "ipython",
    "version": 3
   },
   "file_extension": ".py",
   "mimetype": "text/x-python",
   "name": "python",
   "nbconvert_exporter": "python",
   "pygments_lexer": "ipython3",
   "version": "3.8.5"
  }
 },
 "nbformat": 4,
 "nbformat_minor": 4
}
