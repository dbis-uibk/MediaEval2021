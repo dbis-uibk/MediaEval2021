{
 "cells": [
  {
   "cell_type": "markdown",
   "id": "27693b7b-1375-49c0-bbab-9c7515064d20",
   "metadata": {
    "tags": []
   },
   "source": [
    "# Inspect predictions"
   ]
  },
  {
   "cell_type": "code",
   "execution_count": null,
   "id": "1188147e-9aea-442f-ab91-078f1d18cf22",
   "metadata": {},
   "outputs": [],
   "source": [
    "import numpy as np\n",
    "\n",
    "data = np.load('../results/Pipelinefixed_ensemble_vggish_20_manually_predictions.npy')"
   ]
  },
  {
   "cell_type": "code",
   "execution_count": null,
   "id": "d347bf69-15f3-40c6-8bf7-317a6ef5f1ca",
   "metadata": {},
   "outputs": [],
   "source": [
    "from sklearn.metrics import roc_curve\n",
    "\n",
    "y_pred = np.greater_equal(\n",
    "    data,\n",
    "    data.max(axis=1).reshape(data.shape[0], 1)\n",
    ")\n",
    "threshold = []\n",
    "for label_idx in range(y_pred.shape[1]):\n",
    "    fpr, tpr, thresholds = roc_curve(target[..., label_idx],\n",
    "                                     y_pred[..., label_idx])\n",
    "    try:\n",
    "        idx = find_elbow(tpr, fpr)\n",
    "    except ValueError as ex:\n",
    "        print(ex)\n",
    "        idx = -1\n",
    "\n",
    "    if idx >= 0:\n",
    "        threshold.append(thresholds[idx])\n",
    "    else:\n",
    "        threshold.append(0.5)"
   ]
  }
 ],
 "metadata": {
  "kernelspec": {
   "display_name": "Python 3 (ipykernel)",
   "language": "python",
   "name": "python3"
  },
  "language_info": {
   "codemirror_mode": {
    "name": "ipython",
    "version": 3
   },
   "file_extension": ".py",
   "mimetype": "text/x-python",
   "name": "python",
   "nbconvert_exporter": "python",
   "pygments_lexer": "ipython3",
   "version": "3.8.5"
  }
 },
 "nbformat": 4,
 "nbformat_minor": 5
}
