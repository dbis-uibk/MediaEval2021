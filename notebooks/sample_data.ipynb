{
 "cells": [
  {
   "cell_type": "code",
   "execution_count": null,
   "id": "8e1ed6a2-d757-498e-9c87-ce5d45366d26",
   "metadata": {},
   "outputs": [],
   "source": [
    "import pickle\n",
    "\n",
    "data = pickle.load(open('../data/mediaeval2020/melspect_1366.pickle', 'rb'))"
   ]
  },
  {
   "cell_type": "code",
   "execution_count": null,
   "id": "3936011f-5b44-48bb-9073-eba64d9f7548",
   "metadata": {},
   "outputs": [],
   "source": [
    "def indices(data):\n",
    "    return list(range(0, len(data), 100))\n",
    "\n",
    "indices(data['train'][0])\n",
    "\n",
    "new_data = {}\n",
    "for k in data.keys():\n",
    "    if k == 'configuration':\n",
    "        break\n",
    "    new_data[k] = []\n",
    "    for i in range(len(data[k])):\n",
    "        new_data[k].append(data[k][i][indices(data[k][i])])\n",
    "        \n",
    "new_data['configuration'] = data['configuration']\n",
    "\n",
    "pickle.dump(new_data, open('../data/mediaeval2020/melspect_1366_sampled_100.pickle', 'wb'))"
   ]
  }
 ],
 "metadata": {
  "kernelspec": {
   "display_name": "Python 3 (ipykernel)",
   "language": "python",
   "name": "python3"
  },
  "language_info": {
   "codemirror_mode": {
    "name": "ipython",
    "version": 3
   },
   "file_extension": ".py",
   "mimetype": "text/x-python",
   "name": "python",
   "nbconvert_exporter": "python",
   "pygments_lexer": "ipython3",
   "version": "3.8.11"
  }
 },
 "nbformat": 4,
 "nbformat_minor": 5
}
